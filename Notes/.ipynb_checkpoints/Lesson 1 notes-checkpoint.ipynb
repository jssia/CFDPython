{
 "cells": [
  {
   "cell_type": "markdown",
   "metadata": {},
   "source": [
    "# Step 1 to Navier-Stokes: Notes"
   ]
  },
  {
   "cell_type": "markdown",
   "metadata": {},
   "source": [
    "Vector calculus review:\n",
    "\n",
    "$$\\nabla \\bullet f(x, y, z) = \\frac{\\partial f}{\\partial x} \\hat{i} + \\frac{\\partial f}{\\partial y} \\hat{j} + \\frac{\\partial f}{\\partial z} \\hat{k}$$"
   ]
  },
  {
   "cell_type": "markdown",
   "metadata": {},
   "source": [
    "}## Euler's Method\n",
    "### Discretization\n",
    "\n",
    "A differential equation operates over a domain. To run simulations (especially when there is no analytical solution), it is important to divide the domain into small steps (both temporally and spatially). This allows a computer to use approximate solutions to get from step to step.\n",
    "\n",
    "### Node indexing\n",
    "\n",
    "Each node in the domain has an index. For example, if the equation operates over one dimension of space and one dimension of time, we could denote each point in time with $i$ and each point in space with $j$. Then, any point in spacetime can be identified with $(i, j)$.\n",
    "\n",
    "### Differential approximation\n",
    "\n",
    "We all know that the equation for the derivative is:\n",
    "$$\\frac{df}{dx} = \\lim{h \\to 0} \\frac{f(x + h) - f(x)}{h}$$\n",
    "\n",
    "Imagine three adjacent points $x_{i-1}$, $x_i$, and $x_{i+1}$.\n",
    "\n",
    "Forward difference: use $x_i$ and $x_{i+1}$\n",
    "\n",
    "Backward difference: use $x_{i-1}$ and $x_i$\n",
    "\n",
    "Central difference: use $x_{i-1}$ and $x_{i+1}$"
   ]
  },
  {
   "cell_type": "code",
   "execution_count": 5,
   "metadata": {
    "collapsed": true
   },
   "outputs": [],
   "source": [
    "import numpy\n",
    "from matplotlib import pyplot\n",
    "import time, sys\n",
    "\n",
    "# Make plots appear inside notebook\n",
    "%matplotlib inline"
   ]
  },
  {
   "cell_type": "markdown",
   "metadata": {},
   "source": [
    "Consider the one-dimensional convection equation:\n",
    "\n",
    "$$\\frac{\\partial u}{\\partial t} + c \\frac{\\partial u}{\\partial x} = 0$$\n",
    "\n",
    "Where:\n",
    "\n",
    "$x$ is distance on the x axis\n",
    "\n",
    "$t$ is time\n",
    "\n",
    "$u(x, t)$ is velocity\n",
    "\n",
    "$c$ is wavefront velocity\n",
    "\n",
    "Next, we want to define a one-dimensional spatial domain consisting of the x-axis. Let:\n",
    "\n",
    "`l` be the length of the domain\n",
    "\n",
    "`nx` be the number of points on the line\n",
    "\n",
    "`dx` be the size of the interval between the points\n",
    "\n",
    "`nt` be the length of time for which the simulation runs\n",
    "\n",
    "`dt` be the physics time step\n",
    "\n",
    "`c` be the wavespeed"
   ]
  },
  {
   "cell_type": "markdown",
   "metadata": {},
   "source": [
    "Logically, then:\n",
    "\n",
    "$$dx = \\frac{l}{nx - 1}$$"
   ]
  },
  {
   "cell_type": "code",
   "execution_count": 6,
   "metadata": {
    "collapsed": true
   },
   "outputs": [],
   "source": [
    "l = 2\n",
    "nx = 41\n",
    "dx = l / (nx - 1)\n",
    "\n",
    "nt = 25\n",
    "dt = 0.025\n",
    "\n",
    "c = 1"
   ]
  },
  {
   "cell_type": "markdown",
   "metadata": {},
   "source": [
    "Initial conditions:\n",
    "\n",
    "$$u_0 = 2,      0.5 \\le x \\le 1$$\n",
    "$$u_0 = 1,      x < 0.5, x > 1$$"
   ]
  },
  {
   "cell_type": "code",
   "execution_count": 20,
   "metadata": {},
   "outputs": [
    {
     "name": "stdout",
     "output_type": "stream",
     "text": [
      "[1. 1. 1. 1. 1. 1. 1. 1. 1. 1. 2. 2. 2. 2. 2. 2. 2. 2. 2. 2. 2. 1. 1. 1.\n",
      " 1. 1. 1. 1. 1. 1. 1. 1. 1. 1. 1. 1. 1. 1. 1. 1. 1.]\n"
     ]
    }
   ],
   "source": [
    "u = numpy.ones(nx)                          # Create an array of ones nx long\n",
    "u[int(.5 / dx):int(1 / dx + 1)] = 2         # Set u between 0.5 and 1 to 2\n",
    "print(u)"
   ]
  },
  {
   "cell_type": "code",
   "execution_count": 21,
   "metadata": {},
   "outputs": [
    {
     "data": {
      "text/plain": [
       "[<matplotlib.lines.Line2D at 0x8356b70>]"
      ]
     },
     "execution_count": 21,
     "metadata": {},
     "output_type": "execute_result"
    },
    {
     "data": {
      "image/png": "[encoded data removed]",
      "text/plain": [
       "<matplotlib.figure.Figure at 0x8179390>"
      ]
     },
     "metadata": {},
     "output_type": "display_data"
    }
   ],
   "source": [
    "pyplot.plot(numpy.linspace(0, 2, nx), u)"
   ]
  },
  {
   "cell_type": "markdown",
   "metadata": {},
   "source": [
    "The function does not have perfectly straight sides because there is a transition of width `dx`."
   ]
  },
  {
   "cell_type": "markdown",
   "metadata": {},
   "source": [
    "The notebook uses this moronic notation for each discretised point of $u(x, t)$: $$u^{n}_{i}$$\n",
    "\n",
    "Essentially, $n$ represents the temporal ID of the point, while $i$ represents the spatial ID of the point. I refuse to use this - instead, I will use: $$u_{n, i}$$"
   ]
  },
  {
   "cell_type": "code",
   "execution_count": 22,
   "metadata": {},
   "outputs": [
    {
     "data": {
      "text/plain": [
       "[<matplotlib.lines.Line2D at 0x83c6438>]"
      ]
     },
     "execution_count": 22,
     "metadata": {},
     "output_type": "execute_result"
    },
    {
     "data": {
      "image/png": "[encoded data removed]",
      "text/plain": [
       "<matplotlib.figure.Figure at 0x829ab38>"
      ]
     },
     "metadata": {},
     "output_type": "display_data"
    }
   ],
   "source": [
    "# Initialise an array to store solution for u for the current timestep\n",
    "un = numpy.ones(nx)\n",
    "\n",
    "# For all timesteps in nt:\n",
    "for n in range(nt):\n",
    "    # Copy all values of u into un\n",
    "    un = u.copy()\n",
    "    # For all spacesteps in nx:\n",
    "    for i in range(1, nx):\n",
    "        # This is a discretised equation obtained by solving the PDE\n",
    "        u[i] = un[i] - c * dt / dx * (un[i] - un[i - 1])\n",
    "        \n",
    "# Plot:\n",
    "pyplot.plot(numpy.linspace(0, 2, nx), u)"
   ]
  },
  {
   "cell_type": "markdown",
   "metadata": {},
   "source": [
    "This graph shows the graph of u vs x after 25 time units have passed.\n",
    "\n",
    "Notice that the initial conditions show simply a block of fluid moving at a different velocity to the rest of the column, but now, the velocities have started to mix around."
   ]
  },
  {
   "cell_type": "markdown",
   "metadata": {
    "collapsed": true
   },
   "source": [
    "## Full script"
   ]
  },
  {
   "cell_type": "code",
   "execution_count": 4,
   "metadata": {},
   "outputs": [
    {
     "data": {
      "text/plain": [
       "[<matplotlib.lines.Line2D at 0x8658160>]"
      ]
     },
     "execution_count": 4,
     "metadata": {},
     "output_type": "execute_result"
    },
    {
     "data": {
      "image/png": "[encoded data removed]",
      "text/plain": [
       "<matplotlib.figure.Figure at 0x4b9ba58>"
      ]
     },
     "metadata": {},
     "output_type": "display_data"
    }
   ],
   "source": [
    "import numpy\n",
    "from matplotlib import pyplot\n",
    "import time, sys\n",
    "\n",
    "# Make plots appear inside notebook\n",
    "%matplotlib inline\n",
    "\n",
    "l = 2\n",
    "nx = 41\n",
    "dx = l / (nx - 1)\n",
    "\n",
    "nt = 25\n",
    "dt = 0.025\n",
    "\n",
    "c = 1\n",
    "\n",
    "u = numpy.ones(nx)                          # Create an array of ones nx long\n",
    "u[int(.5 / dx):int(1 / dx + 1)] = 2         # Set u between 0.5 and 1 to 2\n",
    "\n",
    "# Initialise an array to store solution for u for the current timestep\n",
    "un = numpy.ones(nx)\n",
    "\n",
    "# For all timesteps in nt:\n",
    "for n in range(nt):\n",
    "    # Copy all values of u into un\n",
    "    un = u.copy()\n",
    "    # For all spacesteps in nx:\n",
    "    for i in range(1, nx):\n",
    "        # This is a discretised equation obtained by solving the PDE\n",
    "        u[i] = un[i] - c * dt / dx * (un[i] - un[i - 1])\n",
    "        \n",
    "# Plot:\n",
    "pyplot.plot(numpy.linspace(0, 2, nx), u)"
   ]
  }
 ],
 "metadata": {
  "kernelspec": {
   "display_name": "Python 3",
   "language": "python",
   "name": "python3"
  },
  "language_info": {
   "codemirror_mode": {
    "name": "ipython",
    "version": 3
   },
   "file_extension": ".py",
   "mimetype": "text/x-python",
   "name": "python",
   "nbconvert_exporter": "python",
   "pygments_lexer": "ipython3",
   "version": "3.6.1"
  }
 },
 "nbformat": 4,
 "nbformat_minor": 2
}
